{
  "nbformat": 4,
  "nbformat_minor": 0,
  "metadata": {
    "colab": {
      "name": "Hibbeler_6-3.ipynb",
      "provenance": [],
      "private_outputs": true,
      "collapsed_sections": [],
      "authorship_tag": "ABX9TyNL5N5evadCU4gKV8KQBjYe",
      "include_colab_link": true
    },
    "kernelspec": {
      "name": "python3",
      "display_name": "Python 3"
    }
  },
  "cells": [
    {
      "cell_type": "markdown",
      "metadata": {
        "id": "view-in-github",
        "colab_type": "text"
      },
      "source": [
        "<a href=\"https://colab.research.google.com/github/dnaneet/ComputationalMechanicsPlayGround/blob/master/Hibbeler_6_3.ipynb\" target=\"_parent\"><img src=\"https://colab.research.google.com/assets/colab-badge.svg\" alt=\"Open In Colab\"/></a>"
      ]
    },
    {
      "cell_type": "code",
      "metadata": {
        "id": "Q5MW1XQXJEBQ",
        "colab_type": "code",
        "colab": {}
      },
      "source": [
        "from sympy import *\n",
        "from sympy.physics.continuum_mechanics.beam import Beam\n",
        "import matplotlib.pyplot as plt\n",
        "\n",
        "from matplotlib import style\n",
        "style.use('ggplot')\n",
        "init_printing(use_latex='mathjax')"
      ],
      "execution_count": 0,
      "outputs": []
    },
    {
      "cell_type": "code",
      "metadata": {
        "id": "QNDiAhDXJHZg",
        "colab_type": "code",
        "colab": {}
      },
      "source": [
        "# Set reactions as symbols \n",
        "Ry, Ma = symbols('Ry Ma')\n",
        "\n",
        "# Geometric property of beam\n",
        "I = 260.762 #in^4\n",
        "\n",
        "# Modulus of Elasticity\n",
        "E = (29*10**6) #psi\n",
        "'''\n",
        "Note : E and I can be made symbols alone. In this case only shear\n",
        "and bending moment diagrams will be made.\n",
        ">> E, I = symbols('E, I')\n",
        "'''\n",
        "# Length of beam is 9 ft with modulus of elasticity E and moment of inertia I  \n",
        "b = Beam(10, E, I)\n"
      ],
      "execution_count": 0,
      "outputs": []
    },
    {
      "cell_type": "code",
      "metadata": {
        "id": "viHqoXpFJQwg",
        "colab_type": "code",
        "colab": {}
      },
      "source": [
        " '''\n",
        "Uniformly distributed load\n",
        "first argument: load in lb/ft (or kN/m or N/m)\n",
        "second argument: start point\n",
        "third argument: polynomial order.  0 for UDL\n",
        "fourth argument: end point\n",
        " '''\n",
        "\n",
        "b.apply_load(Ry, 0, -1) #Vertical Reaction at x=0.  Polynomial 1\n",
        "b.apply_load(Ma, 0, -2) #Moment Reaction at x=0.  Polynomial 2\n",
        "\n",
        "\n",
        "b.apply_load(-2, 0, 0, end=6) #UDL\n",
        "b.apply_load(-10, 6, -1) #Point load at x=6. Polynomial 1\n",
        "b.apply_load(-8, 10, -1) #Point load at x=10. Polynomial 1\n",
        "b.apply_load(40, 10, -2) #Applied moment at x=10.  Polynomial 2.\n",
        "                         #Interestingly a negative applied moment uses a positive \n",
        "                         #sign in this \"apply_load\" function.  This is contrary\n",
        "                         #to the user manual https://docs.sympy.org/dev/modules/physics/continuum_mechanics/beam_problems.html\n",
        "\n",
        "b.bc_slope.append((0, 0))        \n",
        "b.bc_deflection.append((0, 0))"
      ],
      "execution_count": 0,
      "outputs": []
    },
    {
      "cell_type": "code",
      "metadata": {
        "id": "Dle-XQGIJ9J7",
        "colab_type": "code",
        "colab": {}
      },
      "source": [
        "b.solve_for_reaction_loads(Ry, Ma) #Reactions are solved\n",
        "print(b.reaction_loads)"
      ],
      "execution_count": 0,
      "outputs": []
    },
    {
      "cell_type": "code",
      "metadata": {
        "id": "abbIT4eYJ-un",
        "colab_type": "code",
        "colab": {}
      },
      "source": [
        "x = symbols('x')\n",
        "sf = b.shear_force()\n",
        "bm = b.bending_moment()\n",
        "\n",
        "plot(sf, (x,0,10), line_color='blue', ylabel='SFD [lb]', axis_center=(0,0), ylim=(0,30))\n",
        "plot(bm, (x,0,10), line_color='red', ylabel='BMD [lb-ft]', axis_center=(0,0), ylim=(-225,0))\n",
        "#plot(b.deflection(), (x,0,9), line_color='green', ylabel='deflection, y(x)')"
      ],
      "execution_count": 0,
      "outputs": []
    },
    {
      "cell_type": "code",
      "metadata": {
        "id": "5OuFTNykR4IK",
        "colab_type": "code",
        "colab": {}
      },
      "source": [
        ""
      ],
      "execution_count": 0,
      "outputs": []
    }
  ]
}
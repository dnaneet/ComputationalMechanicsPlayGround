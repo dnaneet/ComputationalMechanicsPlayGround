{
  "nbformat": 4,
  "nbformat_minor": 0,
  "metadata": {
    "colab": {
      "name": "SFD_BMD_sympy_doc_example_1.ipynb",
      "provenance": [],
      "private_outputs": true,
      "collapsed_sections": [],
      "authorship_tag": "ABX9TyPj7O3cMDA7h3FRcPRBXQdj",
      "include_colab_link": true
    },
    "kernelspec": {
      "name": "python3",
      "display_name": "Python 3"
    }
  },
  "cells": [
    {
      "cell_type": "markdown",
      "metadata": {
        "id": "view-in-github",
        "colab_type": "text"
      },
      "source": [
        "<a href=\"https://colab.research.google.com/github/dnaneet/ComputationalMechanicsPlayGround/blob/master/SFD_BMD_sympy_doc_example_1.ipynb\" target=\"_parent\"><img src=\"https://colab.research.google.com/assets/colab-badge.svg\" alt=\"Open In Colab\"/></a>"
      ]
    },
    {
      "cell_type": "markdown",
      "metadata": {
        "id": "oFumWJogOvNP",
        "colab_type": "text"
      },
      "source": [
        "Solution to example 1 in the \"[solving beam bending problems](https://docs.sympy.org/latest/modules/physics/continuum_mechanics/beam_problems.html)\".  \n",
        "\n",
        "The solution shown below seems to use some updated functionality.  One difference between theory presented in many textbooks (if not all) is that a counterclockwise (positive) applied moment needs to carry a negative sign in the code below!  In other words, the sign used for the applied moment should be opposite to established convention to create accurate diagrams.  \n",
        "\n",
        "This is minor but does have an impact on overall solution.\n",
        "\n",
        "Aneet Narendranath, PhD"
      ]
    },
    {
      "cell_type": "code",
      "metadata": {
        "id": "ISZlstYyM7vT",
        "colab_type": "code",
        "colab": {}
      },
      "source": [
        "from sympy import *\n",
        "from sympy.physics.continuum_mechanics.beam import Beam\n",
        "import matplotlib.pyplot as plt\n",
        "\n",
        "from matplotlib import style\n",
        "style.use('ggplot')\n",
        "init_printing(use_latex='mathjax')"
      ],
      "execution_count": 0,
      "outputs": []
    },
    {
      "cell_type": "code",
      "metadata": {
        "id": "7sXK5scGNFNF",
        "colab_type": "code",
        "colab": {}
      },
      "source": [
        "# Set reactions as symbols \n",
        "Ry, Ma = symbols('Ry Ma')\n",
        "E, I = symbols('E, I')\n",
        "\n",
        "# Length of beam is 9 ft with modulus of elasticity E and moment of inertia I  \n",
        "b = Beam(9, E, I)\n"
      ],
      "execution_count": 0,
      "outputs": []
    },
    {
      "cell_type": "code",
      "metadata": {
        "id": "oWx7RiTvNILK",
        "colab_type": "code",
        "colab": {}
      },
      "source": [
        "'''\n",
        "Uniformly distributed load\n",
        "first argument: load in lb/ft (or kN/m or N/m)\n",
        "second argument: start point\n",
        "third argument: polynomial order.  0 for UDL\n",
        "fourth argument: end point\n",
        " '''\n",
        "\n",
        "b.apply_load(Ry, 0, -1) #Vertical Reaction at x=0.  Polynomial 1\n",
        "b.apply_load(Ma, 0, -2) #Moment Reaction at x=0.  Polynomial 2\n",
        "\n",
        "\n",
        "b.apply_load(-8, 0, 0, end=5) #UDL\n",
        "b.apply_load(-50, 5, -2) #Applied moment at x=10.  Polynomial 2.\n",
        "                         #Interestingly a negative applied moment uses a positive \n",
        "                         #sign in this \"apply_load\" function.  This is contrary\n",
        "                         #to the user manual https://docs.sympy.org/dev/modules/physics/continuum_mechanics/beam_problems.html\n",
        "b.apply_load(-12, 9, -1)\n",
        "\n",
        "b.bc_slope.append((0, 0))        \n",
        "b.bc_deflection.append((0, 0))"
      ],
      "execution_count": 0,
      "outputs": []
    },
    {
      "cell_type": "code",
      "metadata": {
        "id": "xCOT4OA7NflK",
        "colab_type": "code",
        "colab": {}
      },
      "source": [
        "b.solve_for_reaction_loads(Ry, Ma) #Reactions are solved\n",
        "print(b.reaction_loads)"
      ],
      "execution_count": 0,
      "outputs": []
    },
    {
      "cell_type": "code",
      "metadata": {
        "id": "Ja3yC_OoNhtW",
        "colab_type": "code",
        "colab": {}
      },
      "source": [
        "x = symbols('x')\n",
        "sf = b.shear_force()\n",
        "bm = b.bending_moment()\n",
        "\n",
        "plot(sf, (x,0,9), line_color='blue', ylabel='SFD [lb]', axis_center=(0,0), ylim=(-10,60))\n",
        "plot(bm, (x,0,9), line_color='red', ylabel='BMD [lb-ft]', axis_center=(0,0), ylim=(-170, 20))\n",
        "#plot(b.deflection(), (x,0,9), line_color='green', ylabel='deflection, y(x)')"
      ],
      "execution_count": 0,
      "outputs": []
    },
    {
      "cell_type": "code",
      "metadata": {
        "id": "P3_MqPS3NkK7",
        "colab_type": "code",
        "colab": {}
      },
      "source": [
        ""
      ],
      "execution_count": 0,
      "outputs": []
    }
  ]
}
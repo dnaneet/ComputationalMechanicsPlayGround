{
  "nbformat": 4,
  "nbformat_minor": 0,
  "metadata": {
    "colab": {
      "name": "Kattan_2x1.ipynb",
      "provenance": [],
      "collapsed_sections": [],
      "authorship_tag": "ABX9TyOlNLnI10HUxULM9MivU36R",
      "include_colab_link": true
    },
    "kernelspec": {
      "name": "python3",
      "display_name": "Python 3"
    }
  },
  "cells": [
    {
      "cell_type": "markdown",
      "metadata": {
        "id": "view-in-github",
        "colab_type": "text"
      },
      "source": [
        "<a href=\"https://colab.research.google.com/github/dnaneet/ComputationalMechanicsPlayGround/blob/master/Kattan_2x1.ipynb\" target=\"_parent\"><img src=\"https://colab.research.google.com/assets/colab-badge.svg\" alt=\"Open In Colab\"/></a>"
      ]
    },
    {
      "cell_type": "markdown",
      "metadata": {
        "id": "ZGFE5cOCikOO",
        "colab_type": "text"
      },
      "source": [
        "The Python program solves problem 2.1 in Peter Kattan's book *MATLAB Guide to Finite Elements An Interactive Approach*.\n",
        "\n",
        "Calculate the deflections at nodes 2 and 3 when P=15 (choose your own units).\n",
        "![Kattan 2.1](https://raw.githubusercontent.com/dnaneet/ComputationalMechanicsPlayGround/master/Kattan_2x1.png)"
      ]
    },
    {
      "cell_type": "code",
      "metadata": {
        "id": "w1OMkw71hWVb",
        "colab_type": "code",
        "colab": {}
      },
      "source": [
        "import numpy as np"
      ],
      "execution_count": 0,
      "outputs": []
    },
    {
      "cell_type": "code",
      "metadata": {
        "id": "t6LUe-RahTtz",
        "colab_type": "code",
        "colab": {}
      },
      "source": [
        "'''\n",
        "The following functions are defined:\n",
        "\n",
        "SpringElementStiffness(): Assemble local\n",
        "stiffness matrix.  \n",
        "Args: stiffness value\n",
        "\n",
        "SpringAssemble(): Assemble local stiffness\n",
        "matrices to create a global stiffness matrix\n",
        "Args: Global stiffness matrix, local stiffness matrix \n",
        "and nodal connectivity\n",
        "'''\n",
        "\n",
        "def SpringElementStiffness(k):\n",
        "  y = np.array([[k, -k],[-k, k]])\n",
        "  return y\n",
        "\n",
        "def SpringAssemble(K, k, i, j):\n",
        "  K[i,i] = K[i,i] + k[0,0]\n",
        "  K[i,j] = K[i,j] + k[0,1]\n",
        "  K[j,i] = K[j,i] + k[1,0]\n",
        "  K[j,j] = K[j,j] + k[1,1]\n",
        "  return K\n"
      ],
      "execution_count": 0,
      "outputs": []
    },
    {
      "cell_type": "code",
      "metadata": {
        "id": "RiBLHdwbhhTk",
        "colab_type": "code",
        "colab": {
          "base_uri": "https://localhost:8080/",
          "height": 73
        },
        "outputId": "e2927589-6203-4a4c-fad1-58051bf90834"
      },
      "source": [
        "'''\n",
        "This is the initialization cell.\n",
        "All initial values are defined\n",
        "or calculated in this cell.\n",
        "'''\n",
        "nNodes=3\n",
        "k1 = SpringElementStiffness(100)\n",
        "k2 = SpringElementStiffness(200)\n",
        "k3 = k2\n",
        "K = np.zeros((nNodes, nNodes))\n",
        "K = SpringAssemble(K, k1, 0,1)\n",
        "K = SpringAssemble(K, k2, 1,2)\n",
        "print(K)"
      ],
      "execution_count": 3,
      "outputs": [
        {
          "output_type": "stream",
          "text": [
            "[[ 100. -100.    0.]\n",
            " [-100.  300. -200.]\n",
            " [   0. -200.  200.]]\n"
          ],
          "name": "stdout"
        }
      ]
    },
    {
      "cell_type": "code",
      "metadata": {
        "id": "cxSMMV6uhjxO",
        "colab_type": "code",
        "colab": {
          "base_uri": "https://localhost:8080/",
          "height": 54
        },
        "outputId": "4dafed6f-f82f-41da-e22b-d2a7b11c8521"
      },
      "source": [
        "'''\n",
        "boundary condition application:\n",
        "Set rows and columns corresponding\n",
        "to boundary condition notes to zero.\n",
        "Remove all zero elements and reshape matrix\n",
        "to nNodes - nBC\n",
        "\n",
        "The operations performed here use vectorization\n",
        "and avoid for loops and while statements\n",
        "'''\n",
        "bcs = [0]\n",
        "nBC = len(bcs);\n",
        "K[0,:] = 0\n",
        "K[:,0] = 0\n",
        "K = K[K!=0].reshape(nNodes-nBC, nNodes-nBC) #global stiffness matrix\n",
        "                                            #arrived at by omitting\n",
        "                                            #all rows and columns that \n",
        "                                            #have \"0\" (fixed nodes)\n",
        "print(K)                                            "
      ],
      "execution_count": 4,
      "outputs": [
        {
          "output_type": "stream",
          "text": [
            "[[ 300. -200.]\n",
            " [-200.  200.]]\n"
          ],
          "name": "stdout"
        }
      ]
    },
    {
      "cell_type": "code",
      "metadata": {
        "id": "F6bPQAANhnaP",
        "colab_type": "code",
        "colab": {
          "base_uri": "https://localhost:8080/",
          "height": 36
        },
        "outputId": "e2568f97-5edd-4c71-f62e-9587224a6f2d"
      },
      "source": [
        "'''\n",
        "Matrix inversion to calculate\n",
        "deflection, given the force.\n",
        "'''\n",
        "f = np.array([0,15])\n",
        "np.linalg.solve(K,f)"
      ],
      "execution_count": 5,
      "outputs": [
        {
          "output_type": "execute_result",
          "data": {
            "text/plain": [
              "array([0.15 , 0.225])"
            ]
          },
          "metadata": {
            "tags": []
          },
          "execution_count": 5
        }
      ]
    }
  ]
}
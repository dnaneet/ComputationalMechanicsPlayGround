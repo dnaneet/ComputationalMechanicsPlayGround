{
  "nbformat": 4,
  "nbformat_minor": 0,
  "metadata": {
    "colab": {
      "name": "colab101.ipynb",
      "provenance": [],
      "collapsed_sections": [],
      "include_colab_link": true
    },
    "kernelspec": {
      "name": "python3",
      "display_name": "Python 3"
    }
  },
  "cells": [
    {
      "cell_type": "markdown",
      "metadata": {
        "id": "view-in-github",
        "colab_type": "text"
      },
      "source": [
        "<a href=\"https://colab.research.google.com/gist/dnaneet/428ed1840160a06bf6c567deb3653c8a/colab101.ipynb\" target=\"_parent\"><img src=\"https://colab.research.google.com/assets/colab-badge.svg\" alt=\"Open In Colab\"/></a>"
      ]
    },
    {
      "cell_type": "markdown",
      "metadata": {
        "id": "iS-izI5rBUK_",
        "colab_type": "text"
      },
      "source": [
        "### Run the cells in this notebook and upload an image of the plot to Canvas.\n",
        "\n",
        "\n",
        "---\n",
        "\n",
        "To begin, please open this interactive notebook in Playground mode.  This should be an option somewhere near the top-left of this document and looks like: ![Playground mode](https://pages.mtu.edu/~dnaneet/2150/playground.png)\n",
        "\n",
        "This would allow you to copy this document to your google drive and work with it.  \n",
        "\n",
        "After this step, you may have to click \"connect\" on the top right-hand corner.  ![connect](https://pages.mtu.edu/~dnaneet/2150/connect.png)\n",
        "\n",
        "After you have opened the document in Playgroud mode, the first cell under the section \"Preamble\" **MUST** be run by clicking the Play Button ![Play Button](https://pages.mtu.edu/~dnaneet/2150/play.png).  This cell ensure that all the necessary computing packages are loaded into this session.\n"
      ]
    },
    {
      "cell_type": "markdown",
      "metadata": {
        "id": "gRbbS4UxDetC",
        "colab_type": "text"
      },
      "source": [
        "### Preamble"
      ]
    },
    {
      "cell_type": "code",
      "metadata": {
        "id": "mw5mqtLOBSDB",
        "colab_type": "code",
        "colab": {}
      },
      "source": [
        "import numpy as np\n",
        "import matplotlib.pyplot as plt\n",
        "import pandas as pd\n",
        "from tabulate import tabulate #pretty display of tables\n",
        "import plotly.express as px\n",
        "from plotly.subplots import make_subplots"
      ],
      "execution_count": 0,
      "outputs": []
    },
    {
      "cell_type": "code",
      "metadata": {
        "id": "M_h6sItRBTzp",
        "colab_type": "code",
        "colab": {}
      },
      "source": [
        "nDivisions = 250\n",
        "x_start = 0\n",
        "x_end=100;\n",
        "x = np.linspace(x_start, x_end, nDivisions)\n",
        "y = x**2\n",
        "\n",
        "df = pd.DataFrame({'x':x, 'y': y})\n",
        "px.scatter(df, x='x', y='y')"
      ],
      "execution_count": 0,
      "outputs": []
    },
    {
      "cell_type": "markdown",
      "metadata": {
        "id": "JJsSsB5sDRXN",
        "colab_type": "text"
      },
      "source": [
        "End of document."
      ]
    }
  ]
}
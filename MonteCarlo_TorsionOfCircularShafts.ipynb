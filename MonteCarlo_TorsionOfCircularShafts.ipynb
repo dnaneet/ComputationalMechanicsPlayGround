{
  "nbformat": 4,
  "nbformat_minor": 0,
  "metadata": {
    "colab": {
      "name": "MonteCarlo_TorsionOfCircularShafts.ipynb",
      "provenance": [],
      "collapsed_sections": [],
      "toc_visible": true,
      "authorship_tag": "ABX9TyP9bPxdUkNXCQVCKRLvARx2",
      "include_colab_link": true
    },
    "kernelspec": {
      "name": "python3",
      "display_name": "Python 3"
    }
  },
  "cells": [
    {
      "cell_type": "markdown",
      "metadata": {
        "id": "view-in-github",
        "colab_type": "text"
      },
      "source": [
        "<a href=\"https://colab.research.google.com/github/dnaneet/ComputationalMechanicsPlayGround/blob/master/MonteCarlo_TorsionOfCircularShafts.ipynb\" target=\"_parent\"><img src=\"https://colab.research.google.com/assets/colab-badge.svg\" alt=\"Open In Colab\"/></a>"
      ]
    },
    {
      "cell_type": "code",
      "metadata": {
        "id": "_XrWOjLf57y5",
        "colab_type": "code",
        "colab": {}
      },
      "source": [
        "from numba import jit\n",
        "import random\n",
        "import numpy as np\n",
        "import matplotlib.pyplot as plt\n",
        "import plotly.express as px \n",
        "import timeit\n",
        "from time import process_time \n",
        "import pandas as pd"
      ],
      "execution_count": 0,
      "outputs": []
    },
    {
      "cell_type": "markdown",
      "metadata": {
        "id": "e0Zy1P045n6_",
        "colab_type": "text"
      },
      "source": [
        "# Monte Carlo simulations"
      ]
    },
    {
      "cell_type": "markdown",
      "metadata": {
        "id": "arIiGzWr5t-U",
        "colab_type": "text"
      },
      "source": [
        "Monte Carlo simulations are a fancy way of saying that repeated random sampling is performed to generate a large number of numerical quantities.  This is not dissimilar to gambling at the casinos of Monte Carlo and consequently, this method is named so.  MC simulations are used in a wide variety of high-impact situations in society: stock/share price estimation, ensemble simulations of weather patterns, reliability engineering for machine component design to name a few."
      ]
    },
    {
      "cell_type": "markdown",
      "metadata": {
        "id": "JuO6a5Vu5vAt",
        "colab_type": "text"
      },
      "source": [
        "## Monte Carlo estimation of $\\pi$"
      ]
    },
    {
      "cell_type": "code",
      "metadata": {
        "id": "7UIyHJ2I5xzy",
        "colab_type": "code",
        "colab": {}
      },
      "source": [
        "'''\n",
        "Estimating the value of PI using Monte Carlo simulation:\n",
        "Define equation of a circle of radius 1:\n",
        "x^2 + y^2 = 1 ...[I]\n",
        "\n",
        "Use uniformly distributed random sample values of x and y and plug these\n",
        "values into equation [I].  For every pair sample,\n",
        "if x^2 + y^2 < 1: this pair falls inside the boundary of the circle.\n",
        "Every time a pair of samples falls inside the boundary of the circle, \n",
        "increment a counter by 1.   \n",
        "\n",
        "\n",
        "4*Total number of samples/samples that fall within the circle = PI.\n",
        "\n",
        "'''\n",
        "\n",
        "@jit(nopython=True)\n",
        "def monte_carlo_pi(nsamples):\n",
        "    acc = 0\n",
        "    for i in range(nsamples):\n",
        "        x = random.random()\n",
        "        y = random.random()\n",
        "        if (x ** 2 + y ** 2) < 1.0:\n",
        "            acc += 1\n",
        "    return 4.0 * acc / nsamples\n",
        "\n",
        "def monte_carlo_pi_unoptimized(nsamples):\n",
        "    acc = 0\n",
        "    for i in range(nsamples):\n",
        "        x = random.random()\n",
        "        y = random.random()\n",
        "        if (x ** 2 + y ** 2) < 1.0:\n",
        "            acc += 1\n",
        "    return 4.0 * acc / nsamples"
      ],
      "execution_count": 0,
      "outputs": []
    },
    {
      "cell_type": "code",
      "metadata": {
        "id": "pL8qjXB-6AsF",
        "colab_type": "code",
        "colab": {}
      },
      "source": [
        "nSamp=1000\n",
        "\n",
        "t1_start = process_time()  \n",
        "#monte_carlo_pi_unoptimized(nSamp) #do not try this if nSamp > 1e4\n",
        "t1_end = process_time()\n",
        "\n",
        "t2_start = process_time()\n",
        "print(monte_carlo_pi(nSamp))\n",
        "t2_end = process_time()\n",
        "\n",
        "#print(t1_end - t1_start)\n",
        "print(t2_end - t2_start)\n"
      ],
      "execution_count": 0,
      "outputs": []
    },
    {
      "cell_type": "markdown",
      "metadata": {
        "id": "Qov1zolXM27g",
        "colab_type": "text"
      },
      "source": [
        "## Monte Carlo simulation of torsion of circular shaft"
      ]
    },
    {
      "cell_type": "markdown",
      "metadata": {
        "id": "0sQIxoWnNOCn",
        "colab_type": "text"
      },
      "source": [
        "\n",
        "\n",
        "In this example, a normal distribution with 0 mean is used to generate num_reps number of radii and num_reps number of internal torque values.  Think of this as making num_reps measurements of radii and internal torques.  \n",
        "\n",
        "These radii and internal torques that are hence \"synthetically\" (or artificially or numerically) \"measured\" using random sampling may be thought to have a distribution because of some measurement uncertainty.\n",
        "\n",
        "The Monte Carlo simulation allows for a sensitivity analysis.  i.e, is shear stress more sensitive to radius or cross section or the internal torque.  \n",
        "\n",
        "It is assumed that we have a single cross-section with a single internal torque."
      ]
    },
    {
      "cell_type": "code",
      "metadata": {
        "id": "8DWCaJ7uL_qw",
        "colab_type": "code",
        "colab": {}
      },
      "source": [
        "#Run this cell first!\n",
        "import numpy as np #linear algebra and random number generation functions\n",
        "import matplotlib.pyplot as plt #plotting\n",
        "import pandas as pd #to create dataframes: tables of diverse types of data\n",
        "import plotly.express as px #fancy, interactive plotting"
      ],
      "execution_count": 0,
      "outputs": []
    },
    {
      "cell_type": "markdown",
      "metadata": {
        "id": "7Z4VU-C3MjoX",
        "colab_type": "text"
      },
      "source": [
        "### Initial data creation: Synthetic measurements"
      ]
    },
    {
      "cell_type": "code",
      "metadata": {
        "id": "Gq7_1BISMTMv",
        "colab_type": "code",
        "colab": {}
      },
      "source": [
        "num_reps= 15 #number of data points\n",
        "             #what do you observe if you increase the number of random samples?\n",
        "\n",
        "\n",
        "avg_r = 0 # mean radius measurement, mm\n",
        "std_dev_r = 0.05 #std. dev of radius measurement, mm\n",
        "delta_r = np.random.normal(avg_r, std_dev_r, num_reps).round(2) #dr\n",
        "#print(delta)\n",
        "radius = 20 + delta_r #Synthetic or MonteCarlo radii\n",
        "\n",
        "avg_T = 0 #N-mm\n",
        "std_dev_T = 35 #N-mm\n",
        "delta_T = np.random.normal(avg_T, std_dev_T, num_reps).round(2) #dT\n",
        "torque = 1000 + delta_T #Synthetic or MonteCarlo Torques"
      ],
      "execution_count": 0,
      "outputs": []
    },
    {
      "cell_type": "markdown",
      "metadata": {
        "id": "pbhPKIotMmXk",
        "colab_type": "text"
      },
      "source": [
        "### Dataframe creation with geometric parameters and shear stress"
      ]
    },
    {
      "cell_type": "code",
      "metadata": {
        "id": "k0LCWpFbMhen",
        "colab_type": "code",
        "colab": {}
      },
      "source": [
        "strength_df = pd.DataFrame({'radius (mm)': radius, 'delta_r (mm)': delta_r, 'Torque (N-mm)': torque})\n",
        "strength_df[\"J (mm^4)\"] = 0.5*np.pi*strength_df[\"radius (mm)\"]**4\n",
        "strength_df[\"tau (kPa)\"] = strength_df[\"Torque (N-mm)\"]*strength_df[\"radius (mm)\"]/strength_df[\"J (mm^4)\"]*1000"
      ],
      "execution_count": 0,
      "outputs": []
    },
    {
      "cell_type": "markdown",
      "metadata": {
        "id": "PDbyyDAgMso6",
        "colab_type": "text"
      },
      "source": [
        "### Interactive plots to compare tau vs T, tau vs r\n",
        "\n",
        "Is shear stress (tau) more sensitive to torque than it is to radius or cross section?  If so (or not), what quantitative evidence compels you to say?"
      ]
    },
    {
      "cell_type": "code",
      "metadata": {
        "id": "aI1-20wbQskh",
        "colab_type": "code",
        "colab": {}
      },
      "source": [
        "px.scatter_3d(strength_df, x = \"radius (mm)\", y=\"Torque (N-mm)\", z = \"tau (kPa)\",\n",
        "              color = \"tau (kPa)\", opacity=0.8)"
      ],
      "execution_count": 0,
      "outputs": []
    },
    {
      "cell_type": "code",
      "metadata": {
        "id": "C6TxeTUpOfuo",
        "colab_type": "code",
        "colab": {}
      },
      "source": [
        "px.scatter_matrix(strength_df, \n",
        "           dimensions = [\"tau (kPa)\", \"Torque (N-mm)\", \"delta_r (mm)\", \"radius (mm)\"],\n",
        "           color=\"tau (kPa)\") #data points are coloured by shear stress values (in kPa)"
      ],
      "execution_count": 0,
      "outputs": []
    },
    {
      "cell_type": "markdown",
      "metadata": {
        "id": "hWJVnhVp3fvZ",
        "colab_type": "text"
      },
      "source": [
        "# Determination of $T-\\omega-P$ design enveol"
      ]
    },
    {
      "cell_type": "code",
      "metadata": {
        "id": "KP-FP5Gi6G5x",
        "colab_type": "code",
        "outputId": "7dd79db5-ab12-4e8e-bca1-d85259dcc99c",
        "colab": {
          "base_uri": "https://localhost:8080/",
          "height": 195
        }
      },
      "source": [
        "'''\n",
        "Initial values\n",
        "'''\n",
        "d = 0.1 #meter\n",
        "J = np.pi*d**4/32 #polar modulus, meter^4\n",
        "omega = 2400/60 #Revs per second \n",
        "tau_allow = 50*10**4 #Pascal\n",
        "\n",
        "'''\n",
        "MC loop\n",
        "for torque\n",
        "'''\n",
        "@jit\n",
        "def mc_torque(nSamples):\n",
        "  return 150*np.random.random_sample((nSamples,))\n",
        "\n",
        "@jit\n",
        "def mc_omega(nSamples):\n",
        "  return (2400/60)*np.random.random_sample((nSamples,))\n",
        "\n",
        "nSamp=100;\n",
        "df = pd.DataFrame({'torque': mc_torque(nSamp), 'omega (RPS)': mc_omega(nSamp)})\n",
        "df['tau'] = df['torque']*0.5*d/J\n",
        "df['power'] = df.apply(lambda x: 2*np.pi*x['omega (RPS)']*x['torque'], axis=1)\n",
        "df['safe'] = df.apply(lambda x: 'Yes' if x['tau'] < tau_allow else 'No', axis=1)\n",
        "df.head(5)"
      ],
      "execution_count": 0,
      "outputs": [
        {
          "output_type": "execute_result",
          "data": {
            "text/html": [
              "<div>\n",
              "<style scoped>\n",
              "    .dataframe tbody tr th:only-of-type {\n",
              "        vertical-align: middle;\n",
              "    }\n",
              "\n",
              "    .dataframe tbody tr th {\n",
              "        vertical-align: top;\n",
              "    }\n",
              "\n",
              "    .dataframe thead th {\n",
              "        text-align: right;\n",
              "    }\n",
              "</style>\n",
              "<table border=\"1\" class=\"dataframe\">\n",
              "  <thead>\n",
              "    <tr style=\"text-align: right;\">\n",
              "      <th></th>\n",
              "      <th>torque</th>\n",
              "      <th>omega (RPS)</th>\n",
              "      <th>tau</th>\n",
              "      <th>power</th>\n",
              "      <th>safe</th>\n",
              "    </tr>\n",
              "  </thead>\n",
              "  <tbody>\n",
              "    <tr>\n",
              "      <th>0</th>\n",
              "      <td>149.602962</td>\n",
              "      <td>18.510566</td>\n",
              "      <td>761921.626802</td>\n",
              "      <td>17399.620191</td>\n",
              "      <td>No</td>\n",
              "    </tr>\n",
              "    <tr>\n",
              "      <th>1</th>\n",
              "      <td>106.442801</td>\n",
              "      <td>0.630094</td>\n",
              "      <td>542108.732579</td>\n",
              "      <td>421.406598</td>\n",
              "      <td>No</td>\n",
              "    </tr>\n",
              "    <tr>\n",
              "      <th>2</th>\n",
              "      <td>148.708167</td>\n",
              "      <td>23.664943</td>\n",
              "      <td>757364.477149</td>\n",
              "      <td>22111.599415</td>\n",
              "      <td>No</td>\n",
              "    </tr>\n",
              "    <tr>\n",
              "      <th>3</th>\n",
              "      <td>98.348190</td>\n",
              "      <td>27.604476</td>\n",
              "      <td>500883.217180</td>\n",
              "      <td>17057.907131</td>\n",
              "      <td>No</td>\n",
              "    </tr>\n",
              "    <tr>\n",
              "      <th>4</th>\n",
              "      <td>8.522984</td>\n",
              "      <td>2.371449</td>\n",
              "      <td>43407.199512</td>\n",
              "      <td>126.994633</td>\n",
              "      <td>Yes</td>\n",
              "    </tr>\n",
              "  </tbody>\n",
              "</table>\n",
              "</div>"
            ],
            "text/plain": [
              "       torque  omega (RPS)            tau         power safe\n",
              "0  149.602962    18.510566  761921.626802  17399.620191   No\n",
              "1  106.442801     0.630094  542108.732579    421.406598   No\n",
              "2  148.708167    23.664943  757364.477149  22111.599415   No\n",
              "3   98.348190    27.604476  500883.217180  17057.907131   No\n",
              "4    8.522984     2.371449   43407.199512    126.994633  Yes"
            ]
          },
          "metadata": {
            "tags": []
          },
          "execution_count": 10
        }
      ]
    },
    {
      "cell_type": "code",
      "metadata": {
        "id": "VBi-zaRy6J7b",
        "colab_type": "code",
        "colab": {}
      },
      "source": [
        "px.scatter_3d(df, x='torque', y='omega (RPS)', z='power',\n",
        "          color='safe')"
      ],
      "execution_count": 0,
      "outputs": []
    }
  ]
}